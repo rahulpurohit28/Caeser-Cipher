{
 "cells": [
  {
   "cell_type": "code",
   "execution_count": 1,
   "metadata": {},
   "outputs": [],
   "source": [
    "def encrypt(input_text,key):\n",
    "    new_ascii=[]\n",
    "    for i in range(len(input_text)):\n",
    "       \n",
    "        if ord(input_text[i]) in list(range(97,123)):\n",
    "            pos=ord(input_text[i])+key\n",
    "            \n",
    "            if pos not in list(range(97,123)):\n",
    "                    pos=97+ (key-1) -(122-ord(input_text[i]))\n",
    "                    \n",
    "            new_ascii.append(chr(pos))\n",
    "        else:\n",
    "            new_ascii.append(input_text[i])\n",
    "    \n",
    "    var=''\n",
    "    for i in new_ascii:\n",
    "        var=var+i\n",
    "    print(var)"
   ]
  },
  {
   "cell_type": "code",
   "execution_count": 2,
   "metadata": {},
   "outputs": [
    {
     "name": "stdout",
     "output_type": "stream",
     "text": [
      "khoor zruog!\n"
     ]
    }
   ],
   "source": [
    "encrypt('hello world!', 3)"
   ]
  },
  {
   "cell_type": "code",
   "execution_count": 3,
   "metadata": {},
   "outputs": [],
   "source": [
    "def decrypt(input_text,key):\n",
    "    new_ascii=[]\n",
    "    for i in range(len(input_text)):\n",
    "       \n",
    "        if ord(input_text[i]) in list(range(97,123)):\n",
    "            pos=ord(input_text[i])-key\n",
    "            \n",
    "            if pos not in list(range(97,123)):\n",
    "                    pos=122- (key-1) +(ord(input_text[i])-97)\n",
    "                    \n",
    "            new_ascii.append(chr(pos))\n",
    "        else:\n",
    "            new_ascii.append(input_text[i])\n",
    "    \n",
    "    var=''\n",
    "    for i in new_ascii:\n",
    "        var=var+i\n",
    "    print(var)"
   ]
  },
  {
   "cell_type": "code",
   "execution_count": 4,
   "metadata": {},
   "outputs": [
    {
     "name": "stdout",
     "output_type": "stream",
     "text": [
      "hello world!\n"
     ]
    }
   ],
   "source": [
    "decrypt('khoor zruog!', 3)"
   ]
  },
  {
   "cell_type": "code",
   "execution_count": null,
   "metadata": {},
   "outputs": [],
   "source": []
  }
 ],
 "metadata": {
  "kernelspec": {
   "display_name": "Python 3",
   "language": "python",
   "name": "python3"
  },
  "language_info": {
   "codemirror_mode": {
    "name": "ipython",
    "version": 3
   },
   "file_extension": ".py",
   "mimetype": "text/x-python",
   "name": "python",
   "nbconvert_exporter": "python",
   "pygments_lexer": "ipython3",
   "version": "3.7.3"
  }
 },
 "nbformat": 4,
 "nbformat_minor": 2
}
